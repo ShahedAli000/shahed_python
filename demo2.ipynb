{
 "cells": [
  {
   "cell_type": "code",
   "execution_count": 3,
   "metadata": {},
   "outputs": [
    {
     "name": "stdout",
     "output_type": "stream",
     "text": [
      "hi\n",
      "hi\n",
      "hi\n",
      "hi\n",
      "hi\n"
     ]
    }
   ],
   "source": [
    "x = [1,2,3,4,4]\n",
    "for value in x:\n",
    "    print(\"hi\")\n"
   ]
  },
  {
   "cell_type": "code",
   "execution_count": 4,
   "metadata": {},
   "outputs": [
    {
     "name": "stdout",
     "output_type": "stream",
     "text": [
      "Horizontal Vector: [10 20 30 40 50]\n"
     ]
    }
   ],
   "source": [
    "import numpy as np\n",
    "\n",
    "# Creating a horizontal vector\n",
    "vector = np.array([10, 20, 30, 40, 50])\n",
    "print(\"Horizontal Vector:\", vector)\n"
   ]
  },
  {
   "cell_type": "code",
   "execution_count": 2,
   "metadata": {},
   "outputs": [
    {
     "name": "stdout",
     "output_type": "stream",
     "text": [
      "Addition:\n",
      " [[10 10 10]\n",
      " [10 10 10]\n",
      " [10 10 10]]\n",
      "Subtraction:\n",
      " [[-8 -6 -4]\n",
      " [-2  0  2]\n",
      " [ 4  6  8]]\n",
      "Multiplication (element-wise):\n",
      " [[ 9 16 21]\n",
      " [24 25 24]\n",
      " [21 16  9]]\n",
      "Matrix Multiplication:\n",
      " [[ 30  24  18]\n",
      " [ 84  69  54]\n",
      " [138 114  90]]\n",
      "Transpose:\n",
      " [[1 4 7]\n",
      " [2 5 8]\n",
      " [3 6 9]]\n",
      "Matrix1 is singular and cannot be inverted.\n"
     ]
    }
   ],
   "source": [
    "import numpy as np\n",
    "\n",
    "# Creating matrices\n",
    "matrix1 = np.array([[1, 2, 3], [4, 5, 6], [7, 8, 9]])\n",
    "matrix2 = np.array([[9, 8, 7], [6, 5, 4], [3, 2, 1]])\n",
    "\n",
    "# Performing basic operations\n",
    "# Addition\n",
    "addition = matrix1 + matrix2\n",
    "print(\"Addition:\\n\", addition)\n",
    "\n",
    "# Subtraction\n",
    "subtraction = matrix1 - matrix2\n",
    "print(\"Subtraction:\\n\", subtraction)\n",
    "\n",
    "# Multiplication (element-wise)\n",
    "multiplication = matrix1 * matrix2\n",
    "print(\"Multiplication (element-wise):\\n\", multiplication)\n",
    "\n",
    "# Matrix Multiplication\n",
    "matrix_multiplication = np.dot(matrix1, matrix2)\n",
    "print(\"Matrix Multiplication:\\n\", matrix_multiplication)\n",
    "\n",
    "# Transpose\n",
    "transpose = np.transpose(matrix1)\n",
    "print(\"Transpose:\\n\", transpose)\n",
    "\n",
    "# Inverse (only for non-singular matrices)\n",
    "try:\n",
    "    inverse = np.linalg.inv(matrix1)\n",
    "    print(\"Inverse:\\n\", inverse)\n",
    "except np.linalg.LinAlgError:\n",
    "    print(\"Matrix1 is singular and cannot be inverted.\")\n"
   ]
  }
 ],
 "metadata": {
  "kernelspec": {
   "display_name": "Python 3",
   "language": "python",
   "name": "python3"
  },
  "language_info": {
   "codemirror_mode": {
    "name": "ipython",
    "version": 3
   },
   "file_extension": ".py",
   "mimetype": "text/x-python",
   "name": "python",
   "nbconvert_exporter": "python",
   "pygments_lexer": "ipython3",
   "version": "3.12.6"
  }
 },
 "nbformat": 4,
 "nbformat_minor": 2
}
